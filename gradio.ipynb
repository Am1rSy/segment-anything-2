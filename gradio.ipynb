{
 "cells": [
  {
   "cell_type": "code",
   "execution_count": null,
   "metadata": {},
   "outputs": [
    {
     "name": "stderr",
     "output_type": "stream",
     "text": [
      "/rds/general/user/abs121/home/anaconda3/envs/sam-2-test/lib/python3.10/site-packages/gradio/layouts/column.py:55: UserWarning: 'scale' value should be an integer. Using 0.5 will cause issues.\n",
      "  warnings.warn(\n"
     ]
    },
    {
     "name": "stdout",
     "output_type": "stream",
     "text": [
      "Running on local URL:  http://127.0.0.1:7860\n",
      "Running on public URL: https://886ff1d607ee226c9b.gradio.live\n",
      "\n",
      "This share link expires in 72 hours. For free permanent hosting and GPU upgrades, run `gradio deploy` from Terminal to deploy to Spaces (https://huggingface.co/spaces)\n"
     ]
    },
    {
     "data": {
      "text/html": [
       "<div><iframe src=\"https://886ff1d607ee226c9b.gradio.live\" width=\"100%\" height=\"500\" allow=\"autoplay; camera; microphone; clipboard-read; clipboard-write;\" frameborder=\"0\" allowfullscreen></iframe></div>"
      ],
      "text/plain": [
       "<IPython.core.display.HTML object>"
      ]
     },
     "metadata": {},
     "output_type": "display_data"
    },
    {
     "name": "stdout",
     "output_type": "stream",
     "text": [
      "get meta information of input video\n",
      "1\n"
     ]
    },
    {
     "name": "stderr",
     "output_type": "stream",
     "text": [
      "ffmpeg version 7.0.1 Copyright (c) 2000-2024 the FFmpeg developers\n",
      "  built with gcc 12.3.0 (conda-forge gcc 12.3.0-11)\n",
      "  configuration: --prefix=/home/conda/feedstock_root/build_artifacts/ffmpeg_1718892157037/_h_env_placehold_placehold_placehold_placehold_placehold_placehold_placehold_placehold_placehold_placehold_placehold_placehold_placehold_placehold_placehold_placehold_placehold_placehold_plac --cc=/home/conda/feedstock_root/build_artifacts/ffmpeg_1718892157037/_build_env/bin/x86_64-conda-linux-gnu-cc --cxx=/home/conda/feedstock_root/build_artifacts/ffmpeg_1718892157037/_build_env/bin/x86_64-conda-linux-gnu-c++ --nm=/home/conda/feedstock_root/build_artifacts/ffmpeg_1718892157037/_build_env/bin/x86_64-conda-linux-gnu-nm --ar=/home/conda/feedstock_root/build_artifacts/ffmpeg_1718892157037/_build_env/bin/x86_64-conda-linux-gnu-ar --disable-doc --disable-openssl --enable-demuxer=dash --enable-hardcoded-tables --enable-libfreetype --enable-libharfbuzz --enable-libfontconfig --enable-libopenh264 --enable-libdav1d --enable-gnutls --enable-libmp3lame --enable-libvpx --enable-libass --enable-pthreads --enable-vaapi --enable-libopenvino --enable-gpl --enable-libx264 --enable-libx265 --enable-libaom --enable-libsvtav1 --enable-libxml2 --enable-pic --enable-shared --disable-static --enable-version3 --enable-zlib --enable-libopus --pkg-config=/home/conda/feedstock_root/build_artifacts/ffmpeg_1718892157037/_build_env/bin/pkg-config\n",
      "  libavutil      59.  8.100 / 59.  8.100\n",
      "  libavcodec     61.  3.100 / 61.  3.100\n",
      "  libavformat    61.  1.100 / 61.  1.100\n",
      "  libavdevice    61.  1.100 / 61.  1.100\n",
      "  libavfilter    10.  1.100 / 10.  1.100\n",
      "  libswscale      8.  1.100 /  8.  1.100\n",
      "  libswresample   5.  1.100 /  5.  1.100\n",
      "  libpostproc    58.  1.100 / 58.  1.100\n",
      "-vsync is deprecated. Use -fps_mode\n",
      "Input #0, mov,mp4,m4a,3gp,3g2,mj2, from '/var/tmp/pbs.9897621.pbs/gradio/48cfa87972079e02c195764ddd54e87b68ba08d87be69f481dc4b465636a8236/A1_8-5s.mp4':\n",
      "  Metadata:\n",
      "    major_brand     : mp42\n",
      "    minor_version   : 0\n",
      "    compatible_brands: mp41isom\n",
      "    creation_time   : 2024-07-15T10:27:38.000000Z\n",
      "  Duration: 00:00:06.53, start: 0.000000, bitrate: 18130 kb/s\n",
      "  Stream #0:0[0x1](und): Video: h264 (Main) (avc1 / 0x31637661), yuv420p(tv, progressive), 1392x1040 [SAR 1:1 DAR 87:65], 18028 kb/s, 4.14 fps, 4 tbr, 4k tbn (default)\n",
      "      Metadata:\n",
      "        creation_time   : 2024-07-15T10:27:38.000000Z\n",
      "        handler_name    : VideoHandler\n",
      "        vendor_id       : [0][0][0][0]\n",
      "        encoder         : AVC Coding\n",
      "  Stream #0:1[0x2](und): Audio: aac (LC) (mp4a / 0x6134706D), 48000 Hz, stereo, fltp, 117 kb/s (default)\n",
      "      Metadata:\n",
      "        creation_time   : 2024-07-15T10:27:38.000000Z\n",
      "        handler_name    : SoundHandler\n",
      "        vendor_id       : [0][0][0][0]\n",
      "Stream mapping:\n",
      "  Stream #0:0 -> #0:0 (h264 (native) -> mjpeg (native))\n",
      "Press [q] to stop, [?] for help\n",
      "[swscaler @ 0x154c50016800] deprecated pixel format used, make sure you did set range correctly\n",
      "Output #0, image2, to '/rds/general/user/abs121/home/UROP_2024/segment-anything-2/tracking_results/A1_8-5s/frame/%07d.jpg':\n",
      "  Metadata:\n",
      "    major_brand     : mp42\n",
      "    minor_version   : 0\n",
      "    compatible_brands: mp41isom\n",
      "    encoder         : Lavf61.1.100\n",
      "  Stream #0:0(und): Video: mjpeg, yuvj420p(pc, progressive), 1392x1040 [SAR 1:1 DAR 87:65], q=2-31, 200 kb/s, 4 fps, 4 tbn (default)\n",
      "      Metadata:\n",
      "        creation_time   : 2024-07-15T10:27:38.000000Z\n",
      "        handler_name    : VideoHandler\n",
      "        vendor_id       : [0][0][0][0]\n",
      "        encoder         : Lavc61.3.100 mjpeg\n",
      "      Side data:\n",
      "        cpb: bitrate max/min/avg: 0/0/200000 buffer size: 0 vbv_delay: N/A\n",
      "[out#0/image2 @ 0x5648f6aaf440] video:12387KiB audio:0KiB subtitle:0KiB other streams:0KiB global headers:0KiB muxing overhead: unknown\n",
      "frame=   27 fps=0.0 q=2.0 Lsize=N/A time=00:00:06.50 bitrate=N/A speed=  39x    \n",
      "/rds/general/user/abs121/home/UROP_2024/segment-anything-2/sam2/modeling/sam/transformer.py:22: UserWarning: Flash Attention is disabled as it requires a GPU with Ampere (8.0) CUDA capability.\n",
      "  OLD_GPU, USE_FLASH_ATTN, MATH_KERNEL_ON = get_sdpa_settings()\n",
      "frame loading (JPEG): 100%|██████████| 27/27 [00:01<00:00, 19.28it/s]\n"
     ]
    },
    {
     "name": "stdout",
     "output_type": "stream",
     "text": [
      "SAM initialised!\n",
      "Click\n",
      "{'coord': array([[620., 375.]], dtype=float32), 'mode': array([1], dtype=int32)}\n",
      "Click\n",
      "{'coord': array([[827., 726.]], dtype=float32), 'mode': array([1], dtype=int32)}\n",
      "Click\n",
      "{'coord': array([[833., 343.]], dtype=float32), 'mode': array([1], dtype=int32)}\n",
      "Click\n",
      "{'coord': array([[923., 188.]], dtype=float32), 'mode': array([1], dtype=int32)}\n"
     ]
    },
    {
     "name": "stderr",
     "output_type": "stream",
     "text": [
      "propagate in video: 100%|██████████| 27/27 [00:15<00:00,  1.73it/s]\n"
     ]
    },
    {
     "name": "stdout",
     "output_type": "stream",
     "text": [
      "1040 1392\n"
     ]
    },
    {
     "name": "stderr",
     "output_type": "stream",
     "text": [
      "sh: which: line 1: syntax error: unexpected end of file\n",
      "sh: error importing function definition for `which'\n",
      "sh: module: line 1: syntax error: unexpected end of file\n",
      "sh: error importing function definition for `module'\n",
      "sh: scl: line 1: syntax error: unexpected end of file\n",
      "sh: error importing function definition for `scl'\n",
      "sh: ml: line 1: syntax error: unexpected end of file\n",
      "sh: error importing function definition for `ml'\n"
     ]
    },
    {
     "name": "stdout",
     "output_type": "stream",
     "text": [
      "updating: rds/general/user/abs121/home/UROP_2024/segment-anything-2/tracking_results/A1_8-5s/A1_8-5s_masks/ (stored 0%)\n",
      "updating: rds/general/user/abs121/home/UROP_2024/segment-anything-2/tracking_results/A1_8-5s/A1_8-5s_masks/2_0000000.png (deflated 91%)\n",
      "updating: rds/general/user/abs121/home/UROP_2024/segment-anything-2/tracking_results/A1_8-5s/A1_8-5s_masks/4_0000003.png (deflated 90%)\n",
      "updating: rds/general/user/abs121/home/UROP_2024/segment-anything-2/tracking_results/A1_8-5s/A1_8-5s_masks/6_0000000.png (deflated 92%)\n",
      "updating: rds/general/user/abs121/home/UROP_2024/segment-anything-2/tracking_results/A1_8-5s/A1_8-5s_masks/3_0000000.png (deflated 92%)\n",
      "updating: rds/general/user/abs121/home/UROP_2024/segment-anything-2/tracking_results/A1_8-5s/A1_8-5s_masks/5_0000004.png (deflated 90%)\n",
      "updating: rds/general/user/abs121/home/UROP_2024/segment-anything-2/tracking_results/A1_8-5s/A1_8-5s_masks/7_0000000.png (deflated 92%)\n",
      "updating: rds/general/user/abs121/home/UROP_2024/segment-anything-2/tracking_results/A1_8-5s/A1_8-5s_masks/6_0000004.png (deflated 92%)\n",
      "updating: rds/general/user/abs121/home/UROP_2024/segment-anything-2/tracking_results/A1_8-5s/A1_8-5s_masks/2_0000003.png (deflated 91%)\n",
      "updating: rds/general/user/abs121/home/UROP_2024/segment-anything-2/tracking_results/A1_8-5s/A1_8-5s_masks/3_0000002.png (deflated 92%)\n",
      "updating: rds/general/user/abs121/home/UROP_2024/segment-anything-2/tracking_results/A1_8-5s/A1_8-5s_masks/7_0000004.png (deflated 91%)\n",
      "updating: rds/general/user/abs121/home/UROP_2024/segment-anything-2/tracking_results/A1_8-5s/A1_8-5s_masks/7_0000003.png (deflated 91%)\n",
      "updating: rds/general/user/abs121/home/UROP_2024/segment-anything-2/tracking_results/A1_8-5s/A1_8-5s_masks/8_0000003.png (deflated 84%)\n",
      "updating: rds/general/user/abs121/home/UROP_2024/segment-anything-2/tracking_results/A1_8-5s/A1_8-5s_masks/7_0000001.png (deflated 91%)\n",
      "updating: rds/general/user/abs121/home/UROP_2024/segment-anything-2/tracking_results/A1_8-5s/A1_8-5s_masks/3_0000003.png (deflated 92%)\n",
      "updating: rds/general/user/abs121/home/UROP_2024/segment-anything-2/tracking_results/A1_8-5s/A1_8-5s_masks/numpy/ (stored 0%)\n",
      "updating: rds/general/user/abs121/home/UROP_2024/segment-anything-2/tracking_results/A1_8-5s/A1_8-5s_masks/5_0000000.png (deflated 89%)\n",
      "updating: rds/general/user/abs121/home/UROP_2024/segment-anything-2/tracking_results/A1_8-5s/A1_8-5s_masks/5_0000003.png (deflated 89%)\n",
      "updating: rds/general/user/abs121/home/UROP_2024/segment-anything-2/tracking_results/A1_8-5s/A1_8-5s_masks/8_0000000.png (deflated 85%)\n",
      "updating: rds/general/user/abs121/home/UROP_2024/segment-anything-2/tracking_results/A1_8-5s/A1_8-5s_masks/4_0000004.png (deflated 89%)\n",
      "updating: rds/general/user/abs121/home/UROP_2024/segment-anything-2/tracking_results/A1_8-5s/A1_8-5s_masks/4_0000001.png (deflated 90%)\n",
      "updating: rds/general/user/abs121/home/UROP_2024/segment-anything-2/tracking_results/A1_8-5s/A1_8-5s_masks/8_0000002.png (deflated 84%)\n",
      "updating: rds/general/user/abs121/home/UROP_2024/segment-anything-2/tracking_results/A1_8-5s/A1_8-5s_masks/5_0000002.png (deflated 87%)\n",
      "updating: rds/general/user/abs121/home/UROP_2024/segment-anything-2/tracking_results/A1_8-5s/A1_8-5s_masks/2_0000001.png (deflated 91%)\n",
      "updating: rds/general/user/abs121/home/UROP_2024/segment-anything-2/tracking_results/A1_8-5s/A1_8-5s_masks/6_0000003.png (deflated 92%)\n",
      "updating: rds/general/user/abs121/home/UROP_2024/segment-anything-2/tracking_results/A1_8-5s/A1_8-5s_masks/png/ (stored 0%)\n",
      "updating: rds/general/user/abs121/home/UROP_2024/segment-anything-2/tracking_results/A1_8-5s/A1_8-5s_masks/6_0000002.png (deflated 92%)\n",
      "updating: rds/general/user/abs121/home/UROP_2024/segment-anything-2/tracking_results/A1_8-5s/A1_8-5s_masks/2_0000004.png (deflated 92%)\n",
      "updating: rds/general/user/abs121/home/UROP_2024/segment-anything-2/tracking_results/A1_8-5s/A1_8-5s_masks/2_0000002.png (deflated 91%)\n",
      "updating: rds/general/user/abs121/home/UROP_2024/segment-anything-2/tracking_results/A1_8-5s/A1_8-5s_masks/8_0000004.png (deflated 84%)\n",
      "updating: rds/general/user/abs121/home/UROP_2024/segment-anything-2/tracking_results/A1_8-5s/A1_8-5s_masks/5_0000001.png (deflated 87%)\n",
      "updating: rds/general/user/abs121/home/UROP_2024/segment-anything-2/tracking_results/A1_8-5s/A1_8-5s_masks/7_0000002.png (deflated 91%)\n",
      "updating: rds/general/user/abs121/home/UROP_2024/segment-anything-2/tracking_results/A1_8-5s/A1_8-5s_masks/3_0000001.png (deflated 92%)\n",
      "updating: rds/general/user/abs121/home/UROP_2024/segment-anything-2/tracking_results/A1_8-5s/A1_8-5s_masks/3_0000004.png (deflated 91%)\n",
      "updating: rds/general/user/abs121/home/UROP_2024/segment-anything-2/tracking_results/A1_8-5s/A1_8-5s_masks/6_0000001.png (deflated 92%)\n",
      "updating: rds/general/user/abs121/home/UROP_2024/segment-anything-2/tracking_results/A1_8-5s/A1_8-5s_masks/4_0000002.png (deflated 89%)\n",
      "updating: rds/general/user/abs121/home/UROP_2024/segment-anything-2/tracking_results/A1_8-5s/A1_8-5s_masks/8_0000001.png (deflated 84%)\n",
      "updating: rds/general/user/abs121/home/UROP_2024/segment-anything-2/tracking_results/A1_8-5s/A1_8-5s_masks/4_0000000.png (deflated 89%)\n",
      "  adding: rds/general/user/abs121/home/UROP_2024/segment-anything-2/tracking_results/A1_8-5s/A1_8-5s_masks/1_0000001.png (deflated 90%)\n",
      "  adding: rds/general/user/abs121/home/UROP_2024/segment-anything-2/tracking_results/A1_8-5s/A1_8-5s_masks/3_0000014.png (deflated 91%)\n",
      "  adding: rds/general/user/abs121/home/UROP_2024/segment-anything-2/tracking_results/A1_8-5s/A1_8-5s_masks/3_0000025.png (deflated 91%)\n",
      "  adding: rds/general/user/abs121/home/UROP_2024/segment-anything-2/tracking_results/A1_8-5s/A1_8-5s_masks/2_0000025.png (deflated 91%)\n",
      "  adding: rds/general/user/abs121/home/UROP_2024/segment-anything-2/tracking_results/A1_8-5s/A1_8-5s_masks/4_0000013.png (deflated 90%)\n",
      "  adding: rds/general/user/abs121/home/UROP_2024/segment-anything-2/tracking_results/A1_8-5s/A1_8-5s_masks/3_0000026.png (deflated 91%)\n",
      "  adding: rds/general/user/abs121/home/UROP_2024/segment-anything-2/tracking_results/A1_8-5s/A1_8-5s_masks/2_0000013.png (deflated 91%)\n",
      "  adding: rds/general/user/abs121/home/UROP_2024/segment-anything-2/tracking_results/A1_8-5s/A1_8-5s_masks/4_0000022.png (deflated 89%)\n",
      "  adding: rds/general/user/abs121/home/UROP_2024/segment-anything-2/tracking_results/A1_8-5s/A1_8-5s_masks/1_0000009.png (deflated 90%)\n",
      "  adding: rds/general/user/abs121/home/UROP_2024/segment-anything-2/tracking_results/A1_8-5s/A1_8-5s_masks/2_0000012.png (deflated 91%)\n",
      "  adding: rds/general/user/abs121/home/UROP_2024/segment-anything-2/tracking_results/A1_8-5s/A1_8-5s_masks/1_0000019.png (deflated 89%)\n",
      "  adding: rds/general/user/abs121/home/UROP_2024/segment-anything-2/tracking_results/A1_8-5s/A1_8-5s_masks/1_0000014.png (deflated 90%)\n",
      "  adding: rds/general/user/abs121/home/UROP_2024/segment-anything-2/tracking_results/A1_8-5s/A1_8-5s_masks/3_0000021.png (deflated 91%)\n",
      "  adding: rds/general/user/abs121/home/UROP_2024/segment-anything-2/tracking_results/A1_8-5s/A1_8-5s_masks/1_0000006.png (deflated 90%)\n",
      "  adding: rds/general/user/abs121/home/UROP_2024/segment-anything-2/tracking_results/A1_8-5s/A1_8-5s_masks/2_0000018.png (deflated 92%)\n",
      "  adding: rds/general/user/abs121/home/UROP_2024/segment-anything-2/tracking_results/A1_8-5s/A1_8-5s_masks/3_0000019.png (deflated 91%)\n",
      "  adding: rds/general/user/abs121/home/UROP_2024/segment-anything-2/tracking_results/A1_8-5s/A1_8-5s_masks/3_0000009.png (deflated 91%)\n",
      "  adding: rds/general/user/abs121/home/UROP_2024/segment-anything-2/tracking_results/A1_8-5s/A1_8-5s_masks/1_0000025.png (deflated 89%)\n",
      "  adding: rds/general/user/abs121/home/UROP_2024/segment-anything-2/tracking_results/A1_8-5s/A1_8-5s_masks/4_0000012.png (deflated 90%)\n",
      "  adding: rds/general/user/abs121/home/UROP_2024/segment-anything-2/tracking_results/A1_8-5s/A1_8-5s_masks/1_0000021.png (deflated 90%)\n",
      "  adding: rds/general/user/abs121/home/UROP_2024/segment-anything-2/tracking_results/A1_8-5s/A1_8-5s_masks/2_0000007.png (deflated 91%)\n",
      "  adding: rds/general/user/abs121/home/UROP_2024/segment-anything-2/tracking_results/A1_8-5s/A1_8-5s_masks/3_0000008.png (deflated 91%)\n",
      "  adding: rds/general/user/abs121/home/UROP_2024/segment-anything-2/tracking_results/A1_8-5s/A1_8-5s_masks/3_0000022.png (deflated 91%)\n",
      "  adding: rds/general/user/abs121/home/UROP_2024/segment-anything-2/tracking_results/A1_8-5s/A1_8-5s_masks/4_0000006.png (deflated 89%)\n",
      "  adding: rds/general/user/abs121/home/UROP_2024/segment-anything-2/tracking_results/A1_8-5s/A1_8-5s_masks/1_0000023.png (deflated 89%)\n",
      "  adding: rds/general/user/abs121/home/UROP_2024/segment-anything-2/tracking_results/A1_8-5s/A1_8-5s_masks/3_0000010.png (deflated 92%)\n",
      "  adding: rds/general/user/abs121/home/UROP_2024/segment-anything-2/tracking_results/A1_8-5s/A1_8-5s_masks/3_0000023.png (deflated 91%)\n",
      "  adding: rds/general/user/abs121/home/UROP_2024/segment-anything-2/tracking_results/A1_8-5s/A1_8-5s_masks/4_0000010.png (deflated 89%)\n",
      "  adding: rds/general/user/abs121/home/UROP_2024/segment-anything-2/tracking_results/A1_8-5s/A1_8-5s_masks/2_0000015.png (deflated 91%)\n",
      "  adding: rds/general/user/abs121/home/UROP_2024/segment-anything-2/tracking_results/A1_8-5s/A1_8-5s_masks/2_0000005.png (deflated 91%)\n",
      "  adding: rds/general/user/abs121/home/UROP_2024/segment-anything-2/tracking_results/A1_8-5s/A1_8-5s_masks/4_0000019.png (deflated 89%)\n",
      "  adding: rds/general/user/abs121/home/UROP_2024/segment-anything-2/tracking_results/A1_8-5s/A1_8-5s_masks/1_0000003.png (deflated 91%)\n",
      "  adding: rds/general/user/abs121/home/UROP_2024/segment-anything-2/tracking_results/A1_8-5s/A1_8-5s_masks/1_0000007.png (deflated 90%)\n",
      "  adding: rds/general/user/abs121/home/UROP_2024/segment-anything-2/tracking_results/A1_8-5s/A1_8-5s_masks/4_0000011.png (deflated 89%)\n",
      "  adding: rds/general/user/abs121/home/UROP_2024/segment-anything-2/tracking_results/A1_8-5s/A1_8-5s_masks/3_0000020.png (deflated 90%)\n",
      "  adding: rds/general/user/abs121/home/UROP_2024/segment-anything-2/tracking_results/A1_8-5s/A1_8-5s_masks/2_0000026.png (deflated 91%)\n",
      "  adding: rds/general/user/abs121/home/UROP_2024/segment-anything-2/tracking_results/A1_8-5s/A1_8-5s_masks/2_0000010.png (deflated 91%)\n",
      "  adding: rds/general/user/abs121/home/UROP_2024/segment-anything-2/tracking_results/A1_8-5s/A1_8-5s_masks/2_0000021.png (deflated 91%)\n",
      "  adding: rds/general/user/abs121/home/UROP_2024/segment-anything-2/tracking_results/A1_8-5s/A1_8-5s_masks/4_0000020.png (deflated 90%)\n",
      "  adding: rds/general/user/abs121/home/UROP_2024/segment-anything-2/tracking_results/A1_8-5s/A1_8-5s_masks/1_0000026.png (deflated 90%)\n",
      "  adding: rds/general/user/abs121/home/UROP_2024/segment-anything-2/tracking_results/A1_8-5s/A1_8-5s_masks/1_0000002.png (deflated 91%)\n",
      "  adding: rds/general/user/abs121/home/UROP_2024/segment-anything-2/tracking_results/A1_8-5s/A1_8-5s_masks/4_0000021.png (deflated 89%)\n",
      "  adding: rds/general/user/abs121/home/UROP_2024/segment-anything-2/tracking_results/A1_8-5s/A1_8-5s_masks/4_0000014.png (deflated 89%)\n",
      "  adding: rds/general/user/abs121/home/UROP_2024/segment-anything-2/tracking_results/A1_8-5s/A1_8-5s_masks/3_0000015.png (deflated 91%)\n",
      "  adding: rds/general/user/abs121/home/UROP_2024/segment-anything-2/tracking_results/A1_8-5s/A1_8-5s_masks/3_0000006.png (deflated 91%)\n",
      "  adding: rds/general/user/abs121/home/UROP_2024/segment-anything-2/tracking_results/A1_8-5s/A1_8-5s_masks/1_0000013.png (deflated 90%)\n",
      "  adding: rds/general/user/abs121/home/UROP_2024/segment-anything-2/tracking_results/A1_8-5s/A1_8-5s_masks/2_0000019.png (deflated 91%)\n",
      "  adding: rds/general/user/abs121/home/UROP_2024/segment-anything-2/tracking_results/A1_8-5s/A1_8-5s_masks/3_0000005.png (deflated 91%)\n",
      "  adding: rds/general/user/abs121/home/UROP_2024/segment-anything-2/tracking_results/A1_8-5s/A1_8-5s_masks/1_0000004.png (deflated 90%)\n",
      "  adding: rds/general/user/abs121/home/UROP_2024/segment-anything-2/tracking_results/A1_8-5s/A1_8-5s_masks/1_0000016.png (deflated 90%)\n",
      "  adding: rds/general/user/abs121/home/UROP_2024/segment-anything-2/tracking_results/A1_8-5s/A1_8-5s_masks/2_0000011.png (deflated 91%)\n",
      "  adding: rds/general/user/abs121/home/UROP_2024/segment-anything-2/tracking_results/A1_8-5s/A1_8-5s_masks/3_0000011.png (deflated 91%)\n",
      "  adding: rds/general/user/abs121/home/UROP_2024/segment-anything-2/tracking_results/A1_8-5s/A1_8-5s_masks/3_0000018.png (deflated 91%)\n",
      "  adding: rds/general/user/abs121/home/UROP_2024/segment-anything-2/tracking_results/A1_8-5s/A1_8-5s_masks/1_0000024.png (deflated 89%)\n",
      "  adding: rds/general/user/abs121/home/UROP_2024/segment-anything-2/tracking_results/A1_8-5s/A1_8-5s_masks/4_0000009.png (deflated 89%)\n",
      "  adding: rds/general/user/abs121/home/UROP_2024/segment-anything-2/tracking_results/A1_8-5s/A1_8-5s_masks/4_0000007.png (deflated 91%)\n",
      "  adding: rds/general/user/abs121/home/UROP_2024/segment-anything-2/tracking_results/A1_8-5s/A1_8-5s_masks/2_0000009.png (deflated 92%)\n",
      "  adding: rds/general/user/abs121/home/UROP_2024/segment-anything-2/tracking_results/A1_8-5s/A1_8-5s_masks/4_0000017.png (deflated 89%)\n",
      "  adding: rds/general/user/abs121/home/UROP_2024/segment-anything-2/tracking_results/A1_8-5s/A1_8-5s_masks/1_0000008.png (deflated 90%)\n",
      "  adding: rds/general/user/abs121/home/UROP_2024/segment-anything-2/tracking_results/A1_8-5s/A1_8-5s_masks/1_0000018.png (deflated 90%)\n",
      "  adding: rds/general/user/abs121/home/UROP_2024/segment-anything-2/tracking_results/A1_8-5s/A1_8-5s_masks/3_0000016.png (deflated 91%)\n",
      "  adding: rds/general/user/abs121/home/UROP_2024/segment-anything-2/tracking_results/A1_8-5s/A1_8-5s_masks/2_0000023.png (deflated 91%)\n",
      "  adding: rds/general/user/abs121/home/UROP_2024/segment-anything-2/tracking_results/A1_8-5s/A1_8-5s_masks/1_0000017.png (deflated 89%)\n",
      "  adding: rds/general/user/abs121/home/UROP_2024/segment-anything-2/tracking_results/A1_8-5s/A1_8-5s_masks/1_0000011.png (deflated 90%)\n",
      "  adding: rds/general/user/abs121/home/UROP_2024/segment-anything-2/tracking_results/A1_8-5s/A1_8-5s_masks/1_0000020.png (deflated 90%)\n",
      "  adding: rds/general/user/abs121/home/UROP_2024/segment-anything-2/tracking_results/A1_8-5s/A1_8-5s_masks/1_0000010.png (deflated 90%)\n",
      "  adding: rds/general/user/abs121/home/UROP_2024/segment-anything-2/tracking_results/A1_8-5s/A1_8-5s_masks/2_0000008.png (deflated 92%)\n",
      "  adding: rds/general/user/abs121/home/UROP_2024/segment-anything-2/tracking_results/A1_8-5s/A1_8-5s_masks/1_0000022.png (deflated 89%)\n",
      "  adding: rds/general/user/abs121/home/UROP_2024/segment-anything-2/tracking_results/A1_8-5s/A1_8-5s_masks/4_0000005.png (deflated 89%)\n",
      "  adding: rds/general/user/abs121/home/UROP_2024/segment-anything-2/tracking_results/A1_8-5s/A1_8-5s_masks/4_0000018.png (deflated 90%)\n",
      "  adding: rds/general/user/abs121/home/UROP_2024/segment-anything-2/tracking_results/A1_8-5s/A1_8-5s_masks/4_0000023.png (deflated 90%)\n",
      "  adding: rds/general/user/abs121/home/UROP_2024/segment-anything-2/tracking_results/A1_8-5s/A1_8-5s_masks/1_0000012.png (deflated 91%)\n",
      "  adding: rds/general/user/abs121/home/UROP_2024/segment-anything-2/tracking_results/A1_8-5s/A1_8-5s_masks/3_0000012.png (deflated 91%)\n",
      "  adding: rds/general/user/abs121/home/UROP_2024/segment-anything-2/tracking_results/A1_8-5s/A1_8-5s_masks/2_0000014.png (deflated 91%)\n",
      "  adding: rds/general/user/abs121/home/UROP_2024/segment-anything-2/tracking_results/A1_8-5s/A1_8-5s_masks/4_0000025.png (deflated 90%)\n",
      "  adding: rds/general/user/abs121/home/UROP_2024/segment-anything-2/tracking_results/A1_8-5s/A1_8-5s_masks/3_0000007.png (deflated 91%)\n",
      "  adding: rds/general/user/abs121/home/UROP_2024/segment-anything-2/tracking_results/A1_8-5s/A1_8-5s_masks/2_0000020.png (deflated 91%)\n",
      "  adding: rds/general/user/abs121/home/UROP_2024/segment-anything-2/tracking_results/A1_8-5s/A1_8-5s_masks/1_0000005.png (deflated 90%)\n",
      "  adding: rds/general/user/abs121/home/UROP_2024/segment-anything-2/tracking_results/A1_8-5s/A1_8-5s_masks/2_0000022.png (deflated 91%)\n",
      "  adding: rds/general/user/abs121/home/UROP_2024/segment-anything-2/tracking_results/A1_8-5s/A1_8-5s_masks/2_0000024.png (deflated 91%)\n",
      "  adding: rds/general/user/abs121/home/UROP_2024/segment-anything-2/tracking_results/A1_8-5s/A1_8-5s_masks/3_0000024.png (deflated 90%)\n",
      "  adding: rds/general/user/abs121/home/UROP_2024/segment-anything-2/tracking_results/A1_8-5s/A1_8-5s_masks/2_0000017.png (deflated 91%)\n",
      "  adding: rds/general/user/abs121/home/UROP_2024/segment-anything-2/tracking_results/A1_8-5s/A1_8-5s_masks/4_0000016.png (deflated 90%)\n",
      "  adding: rds/general/user/abs121/home/UROP_2024/segment-anything-2/tracking_results/A1_8-5s/A1_8-5s_masks/1_0000015.png (deflated 90%)\n",
      "  adding: rds/general/user/abs121/home/UROP_2024/segment-anything-2/tracking_results/A1_8-5s/A1_8-5s_masks/1_0000000.png (deflated 91%)\n",
      "  adding: rds/general/user/abs121/home/UROP_2024/segment-anything-2/tracking_results/A1_8-5s/A1_8-5s_masks/4_0000024.png (deflated 90%)\n",
      "  adding: rds/general/user/abs121/home/UROP_2024/segment-anything-2/tracking_results/A1_8-5s/A1_8-5s_masks/2_0000006.png (deflated 91%)\n",
      "  adding: rds/general/user/abs121/home/UROP_2024/segment-anything-2/tracking_results/A1_8-5s/A1_8-5s_masks/3_0000013.png (deflated 91%)\n",
      "  adding: rds/general/user/abs121/home/UROP_2024/segment-anything-2/tracking_results/A1_8-5s/A1_8-5s_masks/3_0000017.png (deflated 91%)\n",
      "  adding: rds/general/user/abs121/home/UROP_2024/segment-anything-2/tracking_results/A1_8-5s/A1_8-5s_masks/4_0000026.png (deflated 89%)\n",
      "  adding: rds/general/user/abs121/home/UROP_2024/segment-anything-2/tracking_results/A1_8-5s/A1_8-5s_masks/2_0000016.png (deflated 91%)\n",
      "  adding: rds/general/user/abs121/home/UROP_2024/segment-anything-2/tracking_results/A1_8-5s/A1_8-5s_masks/4_0000008.png (deflated 89%)\n",
      "  adding: rds/general/user/abs121/home/UROP_2024/segment-anything-2/tracking_results/A1_8-5s/A1_8-5s_masks/4_0000015.png (deflated 89%)\n",
      "done\n"
     ]
    },
    {
     "name": "stderr",
     "output_type": "stream",
     "text": [
      "/rds/general/user/abs121/home/anaconda3/envs/sam-2-test/lib/python3.10/site-packages/gradio/components/video.py:327: UserWarning: Video does not have browser-compatible container or codec. Converting to mp4.\n",
      "  warnings.warn(\n"
     ]
    }
   ],
   "source": [
    "%run sam2app.py"
   ]
  }
 ],
 "metadata": {
  "kernelspec": {
   "display_name": "Python [conda env:sam-2-test]",
   "language": "python",
   "name": "conda-env-sam-2-test-py"
  },
  "language_info": {
   "codemirror_mode": {
    "name": "ipython",
    "version": 3
   },
   "file_extension": ".py",
   "mimetype": "text/x-python",
   "name": "python",
   "nbconvert_exporter": "python",
   "pygments_lexer": "ipython3",
   "version": "3.10.14"
  }
 },
 "nbformat": 4,
 "nbformat_minor": 2
}
