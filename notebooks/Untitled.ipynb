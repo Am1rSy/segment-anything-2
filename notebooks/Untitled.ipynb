{
 "cells": [
  {
   "cell_type": "code",
   "execution_count": null,
   "metadata": {},
   "outputs": [],
   "source": [
    "import torch\n",
    "from sam2.build_sam import build_sam2_video_predictor\n",
    "\n",
    "checkpoint = \"./checkpoints/sam2_hiera_large.pt\"\n",
    "model_cfg = \"sam2_hiera_l.yaml\"\n",
    "predictor = build_sam2_video_predictor(model_cfg, checkpoint)\n",
    "\n",
    "with torch.inference_mode(), torch.autocast(\"cuda\", dtype=torch.bfloat16):\n",
    "    state = predictor.init_state(<your_video>)\n",
    "\n",
    "    # add new prompts and instantly get the output on the same frame\n",
    "    frame_idx, object_ids, masks = predictor.add_new_points(state, <your_prompts>):\n",
    "\n",
    "    # propagate the prompts to get masklets throughout the video\n",
    "    for frame_idx, object_ids, masks in predictor.propagate_in_video(state):\n",
    "        ..."
   ]
  }
 ],
 "metadata": {
  "kernelspec": {
   "display_name": "Python [conda env:sam-2]",
   "language": "python",
   "name": "conda-env-sam-2-py"
  },
  "language_info": {
   "codemirror_mode": {
    "name": "ipython",
    "version": 3
   },
   "file_extension": ".py",
   "mimetype": "text/x-python",
   "name": "python",
   "nbconvert_exporter": "python",
   "pygments_lexer": "ipython3",
   "version": "3.12.2"
  }
 },
 "nbformat": 4,
 "nbformat_minor": 2
}
